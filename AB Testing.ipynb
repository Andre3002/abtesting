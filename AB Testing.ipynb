{
 "cells": [
  {
   "cell_type": "code",
   "execution_count": 5,
   "metadata": {},
   "outputs": [
    {
     "name": "stdout",
     "output_type": "stream",
     "text": [
      "Sample mean 1: 50.54824784997514\n",
      "Sample mean 2: 97.95949096047315\n",
      "TtestResult(statistic=-33.72952277672986, pvalue=6.3445365508664585e-84, df=197.61159229013055)\n"
     ]
    }
   ],
   "source": [
    "import scipy.stats as st\n",
    "import numpy as np\n",
    "\n",
    "np.random.seed(16172)\n",
    "sample1=np.random.normal(50,10,100)\n",
    "sample2=np.random.normal(100,10,100)\n",
    "\n",
    "print (f'Sample mean 1: {np.mean(sample1)}')\n",
    "print (f'Sample mean 2: {np.mean(sample2)}')\n",
    "\n",
    "two_tail_results = st.ttest_ind(sample1, sample2, equal_var=False)\n",
    "\n",
    "print (two_tail_results)\n"
   ]
  }
 ],
 "metadata": {
  "kernelspec": {
   "display_name": "plus-nlp-cv-ir",
   "language": "python",
   "name": "python3"
  },
  "language_info": {
   "codemirror_mode": {
    "name": "ipython",
    "version": 3
   },
   "file_extension": ".py",
   "mimetype": "text/x-python",
   "name": "python",
   "nbconvert_exporter": "python",
   "pygments_lexer": "ipython3",
   "version": "3.9.20"
  }
 },
 "nbformat": 4,
 "nbformat_minor": 2
}
