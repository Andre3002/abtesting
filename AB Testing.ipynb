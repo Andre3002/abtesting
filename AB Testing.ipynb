{
 "cells": [
  {
   "cell_type": "code",
   "execution_count": 27,
   "metadata": {},
   "outputs": [
    {
     "name": "stdout",
     "output_type": "stream",
     "text": [
      "Sample mean of before: 50.54824784997514\n",
      "Sample mean of after: 54.95949096047315\n",
      "\n",
      "Two tail results:  TtestResult(statistic=-3.1382666896639466, pvalue=0.0019596346894880487, df=197.61159229013055)\n",
      "\n",
      "Upper tail results:  TtestResult(statistic=-3.1382666896639466, pvalue=0.0019596346894880487, df=197.61159229013055)\n",
      "p-value must be divided by 2:  0.0009798173447440244\n",
      "\n",
      "Lower tail results:  TtestResult(statistic=3.1382666896639466, pvalue=0.0019596346894880487, df=197.61159229013055)\n",
      "p-value must be divided by 2:  0.0009798173447440244\n",
      "\n"
     ]
    }
   ],
   "source": [
    "# The statistics and calculus with python workshop (p. 500)\n",
    "import scipy.stats as st\n",
    "import numpy as np\n",
    "\n",
    "np.random.seed(16172)\n",
    "before=np.random.normal(50,10,100)\n",
    "after=np.random.normal(57,10,100)\n",
    "\n",
    "print (f'Sample mean of before: {np.mean(before)}')\n",
    "print (f'Sample mean of after: {np.mean(after)}\\n')\n",
    "\n",
    "two_tail_results = st.ttest_ind(before, after, equal_var=False)\n",
    "\n",
    "# this just tells us that the means are significantly different than each other\n",
    "print (f'Two tail results:  {(two_tail_results)}\\n')\n",
    "\n",
    "# Use one tailed test test is \"before\" is smaller than after\n",
    "upper_tail = st.ttest_ind(before, after, equal_var=False)\n",
    "print (f'Upper tail results:  {(upper_tail)}')\n",
    "print (f'p-value must be divided by 2:  {(upper_tail.pvalue/2)}\\n')\n",
    "\n",
    "# Use one tailed test to see if after is larger than before\n",
    "lower_tail = st.ttest_ind(after, before, equal_var=False)\n",
    "print (f'Lower tail results:  {(lower_tail)}')\n",
    "print (f'p-value must be divided by 2:  {(upper_tail.pvalue/2)}\\n')\n"
   ]
  },
  {
   "cell_type": "code",
   "execution_count": 25,
   "metadata": {},
   "outputs": [
    {
     "name": "stdout",
     "output_type": "stream",
     "text": [
      "   userid  spending  age  visits\n",
      "0       1      1250   31     126\n",
      "1       2       900   27       5\n",
      "2       3         0   30     459\n",
      "3       4      2890   22      18\n",
      "4       5      1460   38      20\n",
      "\n",
      "\n",
      "   userid  spending  age  visits\n",
      "0      31      1499   32      12\n",
      "1      32       799   23      40\n",
      "2      33      1200   45      22\n",
      "3      34         0   59     126\n",
      "4      35      1350   17      85\n",
      "\n",
      "\n",
      "TtestResult(statistic=-2.109853741030508, pvalue=0.03919630411621095, df=58.0)\n",
      "TtestResult(statistic=-0.7101437106800108, pvalue=0.4804606394128761, df=58.0)\n",
      "TtestResult(statistic=0.20626752311535543, pvalue=0.8373043059847984, df=58.0)\n"
     ]
    }
   ],
   "source": [
    "# Dive into datascience (p. 76)\n",
    "\n",
    "import pandas as pd\n",
    "import scipy.stats as st\n",
    "import numpy as np\n",
    "\n",
    "desktop = pd.read_csv('desktop.csv')\n",
    "laptop = pd.read_csv('laptop.csv')\n",
    "\n",
    "print(desktop.head())\n",
    "print(f'\\n')\n",
    "print(laptop.head())\n",
    "print(f'\\n')\n",
    "\n",
    "print(st.ttest_ind(desktop['spending'], laptop['spending']))\n",
    "print(st.ttest_ind(desktop['age'], laptop['age']))\n",
    "print(st.ttest_ind(desktop['visits'], laptop['visits']))\n",
    "\n"
   ]
  },
  {
   "cell_type": "code",
   "execution_count": 33,
   "metadata": {},
   "outputs": [
    {
     "name": "stdout",
     "output_type": "stream",
     "text": [
      "1028.6666666666667\n",
      "1624.5666666666666\n"
     ]
    }
   ],
   "source": [
    "print(np.mean(desktop['spending']) )\n",
    "print(np.mean(laptop['spending']))\n",
    "\n",
    "# print(np.mean(desktop['visits']) )\n",
    "# print(np.mean(laptop['visits']))"
   ]
  },
  {
   "cell_type": "code",
   "execution_count": 37,
   "metadata": {},
   "outputs": [
    {
     "name": "stdout",
     "output_type": "stream",
     "text": [
      "892.1593405266174\n",
      "1231.8258449237953\n"
     ]
    }
   ],
   "source": [
    "print(np.std(desktop['spending']) )\n",
    "print(np.std(laptop['spending']))"
   ]
  },
  {
   "cell_type": "code",
   "execution_count": 41,
   "metadata": {},
   "outputs": [
    {
     "name": "stdout",
     "output_type": "stream",
     "text": [
      "0.69689340057952\n"
     ]
    }
   ],
   "source": [
    "# How to calculate the statistical power of a test\n",
    "from statsmodels.stats.power import TTestIndPower\n",
    "\n",
    "# define parameters\n",
    "alpha = 0.05  # define our choosen statistical significance threshold\n",
    "nobs = 50 # number of observations.  i.e. 45 in before and 45 in after\n",
    "effectsize = 0.5 # Cohens d: when 0.2=low, 0.5=medium, 0.8=high\n",
    "\n",
    "analysis = TTestIndPower()\n",
    "power = analysis.solve_power(effect_size=effectsize, nobs1=nobs, alpha=alpha)\n",
    "\n",
    "# Rule of thumb, only authorize A/B tests that will have at least 80% power\n",
    "print(power)"
   ]
  },
  {
   "cell_type": "code",
   "execution_count": 47,
   "metadata": {},
   "outputs": [
    {
     "name": "stdout",
     "output_type": "stream",
     "text": [
      "Number of observations needed to achive test requirements:  135.71324592029018\n"
     ]
    }
   ],
   "source": [
    "# How to calculate sample size needed to run A/B test (very similar to above)\n",
    "from statsmodels.stats.power import TTestIndPower\n",
    "\n",
    "# Define our requirments for the test\n",
    "alpha = 0.005  # define our choosen statistical significance threshold\n",
    "effect = 0.5 # Cohens d: when 0.2=low, 0.5=medium, 0.8=high\n",
    "power = 0.9 # Rule of thumb, only authorize A/B tests that will have at least 80% power - here we can decide\n",
    "\n",
    "analysis = TTestIndPower()\n",
    "observations = analysis.solve_power(effect_size=effect, power=power, alpha=alpha)\n",
    "\n",
    "print (f'Number of observations needed to achive test requirements:  {(observations)}')\n"
   ]
  }
 ],
 "metadata": {
  "kernelspec": {
   "display_name": "plus-nlp-cv-ir",
   "language": "python",
   "name": "python3"
  },
  "language_info": {
   "codemirror_mode": {
    "name": "ipython",
    "version": 3
   },
   "file_extension": ".py",
   "mimetype": "text/x-python",
   "name": "python",
   "nbconvert_exporter": "python",
   "pygments_lexer": "ipython3",
   "version": "3.9.20"
  }
 },
 "nbformat": 4,
 "nbformat_minor": 2
}
