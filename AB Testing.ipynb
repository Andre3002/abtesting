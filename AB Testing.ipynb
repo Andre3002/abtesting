{
 "cells": [
  {
   "cell_type": "code",
   "execution_count": 16,
   "metadata": {},
   "outputs": [
    {
     "name": "stdout",
     "output_type": "stream",
     "text": [
      "Sample mean of before: 50.54824784997514\n",
      "Sample mean of after: 54.95949096047315\n",
      "\n",
      "Two tail results:  TtestResult(statistic=-3.1382666896639466, pvalue=0.0019596346894880487, df=197.61159229013055)\n",
      "\n",
      "Upper tail results:  TtestResult(statistic=-3.1382666896639466, pvalue=0.0019596346894880487, df=197.61159229013055)\n",
      "p-value must be divided by 2:  0.0009798173447440244\n",
      "\n",
      "Lower tail results:  TtestResult(statistic=3.1382666896639466, pvalue=0.0019596346894880487, df=197.61159229013055)\n",
      "p-value must be divided by 2:  0.0009798173447440244\n",
      "\n"
     ]
    }
   ],
   "source": [
    "# The statistics and calculus with python workshop (p. 500)\n",
    "import scipy.stats as st\n",
    "import numpy as np\n",
    "\n",
    "np.random.seed(16172)\n",
    "before=np.random.normal(50,10,100)\n",
    "after=np.random.normal(57,10,100)\n",
    "\n",
    "print (f'Sample mean of before: {np.mean(before)}')\n",
    "print (f'Sample mean of after: {np.mean(after)}\\n')\n",
    "\n",
    "two_tail_results = st.ttest_ind(before, after, equal_var=False)\n",
    "\n",
    "# this just tells us that the means are significantly different than each other\n",
    "print (f'Two tail results:  {(two_tail_results)}\\n')\n",
    "\n",
    "# Use one tailed test test is \"before\" is smaller than after\n",
    "upper_tail = st.ttest_ind(before, after, equal_var=False)\n",
    "print (f'Upper tail results:  {(upper_tail)}')\n",
    "print (f'p-value must be divided by 2:  {(upper_tail.pvalue/2)}\\n')\n",
    "\n",
    "# Use one tailed test to see if after is larger than before\n",
    "lower_tail = st.ttest_ind(after, before, equal_var=False)\n",
    "print (f'Lower tail results:  {(lower_tail)}')\n",
    "print (f'p-value must be divided by 2:  {(upper_tail.pvalue/2)}\\n')\n"
   ]
  }
 ],
 "metadata": {
  "kernelspec": {
   "display_name": "plus-nlp-cv-ir",
   "language": "python",
   "name": "python3"
  },
  "language_info": {
   "codemirror_mode": {
    "name": "ipython",
    "version": 3
   },
   "file_extension": ".py",
   "mimetype": "text/x-python",
   "name": "python",
   "nbconvert_exporter": "python",
   "pygments_lexer": "ipython3",
   "version": "3.9.20"
  }
 },
 "nbformat": 4,
 "nbformat_minor": 2
}
